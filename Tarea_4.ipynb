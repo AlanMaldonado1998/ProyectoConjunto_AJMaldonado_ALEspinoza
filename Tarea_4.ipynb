{
 "cells": [
  {
   "cell_type": "markdown",
   "metadata": {},
   "source": [
    "<img style=\"float: left; margin: 30px 15px 15px 15px;\" src=\"https://pngimage.net/wp-content/uploads/2018/06/logo-iteso-png-5.png\" width=\"300\" height=\"500\" /> \n",
    "    \n",
    "    \n",
    "### <font color='navy'> Simulación de procesos financieros. \n",
    "\n",
    "**Nombres:** Alan Jose Maldonado Garcia, Ana Luisa Espinoza López.\n",
    "\n",
    "**Fecha:** 19 de Septiembre del 2023.\n",
    "\n",
    "**Expediente** :732884,734753.\n",
    "**Profesor:** Oscar David Jaramillo Zuluaga.\n",
    "    \n",
    "**Link Github**: https://github.com/AlanMaldonado1998/ProyectoConjunto_AJMaldonado_ALEspinoza\n",
    "\n",
    "# Tarea 4: Clase 9"
   ]
  },
  {
   "cell_type": "markdown",
   "metadata": {},
   "source": [
    "## Enunciado de tarea \n",
    "\n",
    "\n",
    "### Ejercicio 1\n",
    "Como ejemplo simple de una simulación de Monte Carlo, considere calcular la probabilidad de una suma particular del lanzamiento de tres dados (cada dado tiene valores del uno al seis). Además cada dado tiene las siguientes carácterísticas: el primer dado no está cargado (distribución uniforme todos son equiprobables); el segundo y tercer dado están cargados basados en una distribución binomial con parámetros (`n=5, p=0.5` y `n=5, p=0.2`). Calcule la probabilidad de que la suma resultante sea 7, 14 o 18. "
   ]
  },
  {
   "cell_type": "markdown",
   "metadata": {},
   "source": [
    "### Ejercicio 1:"
   ]
  },
  {
   "cell_type": "markdown",
   "metadata": {},
   "source": [
    "Código de solución Alan"
   ]
  },
  {
   "cell_type": "code",
   "execution_count": null,
   "metadata": {},
   "outputs": [],
   "source": [
    "# Código de solución estudiante 1\n",
    ".\n",
    ".\n",
    ".\n",
    ".\n"
   ]
  },
  {
   "cell_type": "markdown",
   "metadata": {},
   "source": [
    "Código de solución Ana Luisa"
   ]
  },
  {
   "cell_type": "code",
   "execution_count": 1,
   "metadata": {},
   "outputs": [],
   "source": [
    "import numpy as np\n",
    "import scipy.stats as st"
   ]
  },
  {
   "cell_type": "code",
   "execution_count": 2,
   "metadata": {},
   "outputs": [],
   "source": [
    "def prob_dados(s,N):  #s:suma resultante deseada   N:número de tiros\n",
    "    dado_1 = [np.random.randint(1,7) for i in range(0,N)]\n",
    "    dado_2 = (st.binom(n=5, p=0.5).rvs(N))+1\n",
    "    dado_3 = (st.binom(n=5, p=0.2).rvs(N))+1\n",
    "    suma = [(dado_1[i]+dado_2[i]+dado_3[i]) for i in range(N)]\n",
    "    c = suma.count(s)\n",
    "    p = round(((c/N)*100),2)\n",
    "    msj = f\"La probabilidad de que la suma sea {s} es de {p}%\"\n",
    "    return msj"
   ]
  },
  {
   "cell_type": "code",
   "execution_count": 3,
   "metadata": {},
   "outputs": [
    {
     "name": "stdout",
     "output_type": "stream",
     "text": [
      "La probabilidad de que la suma sea 7 es de 12.1%\n",
      "La probabilidad de que la suma sea 14 es de 1.5%\n",
      "La probabilidad de que la suma sea 18 es de 0.0%\n"
     ]
    }
   ],
   "source": [
    "print(prob_dados(7,1000))\n",
    "print(prob_dados(14,1000))\n",
    "print(prob_dados(18,1000))"
   ]
  },
  {
   "cell_type": "markdown",
   "metadata": {},
   "source": [
    "# 2 Ejercicio de aplicación- Cafetería Central\n",
    "\n",
    "Premisas para la simulación:\n",
    "- Negocio de alimentos que vende bebidas y alimentos.\n",
    "- Negocio dentro del ITESO.\n",
    "- Negocio en cafetería central.\n",
    "- Tipo de clientes (hombres y mujeres).\n",
    "- Rentabilidad del 60%.\n",
    "\n",
    "## Objetivo\n",
    "Realizar una simulación estimado el tiempo medio que se tardaran los clientes en ser atendidos entre el horario de 6:30 a 1 pm. Además saber el consumo. \n",
    "**Analizar supuestos y limitantes**\n",
    "\n",
    "## Supuestos en simulación\n",
    "Clasificación de clientes: \n",
    "- Mujer  = 1 $\\longrightarrow$ aleatorio < 0.5\n",
    "- Hombre = 0 $\\longrightarrow$ aleatorio $\\geq$ 0.5.\n",
    "\n",
    "Condiciones iniciales:\n",
    "- Todas las distrubuciones de probabilidad se supondrán uniformes.\n",
    "- Tiempo de simulación: 6:30 am - 1:30pm $\\longrightarrow$ T = 7 horas = 25200 seg.\n",
    "- Tiempo de llegada hasta ser atendido: Min=5seg, Max=30seg.\n",
    "- Tiempo que tardan los clientes en ser atendidos:\n",
    "    - Mujer: Min = 1 min= 60seg, Max = 5 min = 300 seg\n",
    "    - Hombre: Min = 40 seg, Max = 2 min= 120 seg\n",
    "- Consumo según el tipo de cliente:\n",
    "    - Mujer: Min = 30 pesos, Max = 100 pesos\n",
    "    - Hombre: Min = 20 pesos, Max = 80 pesos\n",
    "\n",
    "Responder las siguientes preguntas basados en los datos del problema:\n",
    "1. ¿Cuáles fueron los gastos de los hombres y las mujeres en 5 días de trabajo?.\n",
    "2. ¿Cuál fue el consumo promedio de los hombres y mujeres?\n",
    "3. ¿Cuál fue el número de personas atendidas por día?\n",
    "4. ¿Cuál fue el tiempo de atención promedio?\n",
    "5. ¿Cuánto fue la ganancia promedio de la cafetería en 5 días de trabajo y su respectiva rentabilidad?"
   ]
  },
  {
   "cell_type": "markdown",
   "metadata": {},
   "source": [
    "### Ejercicio 2: "
   ]
  },
  {
   "cell_type": "markdown",
   "metadata": {},
   "source": [
    "Código de solución Alan"
   ]
  },
  {
   "cell_type": "code",
   "execution_count": null,
   "metadata": {},
   "outputs": [],
   "source": [
    "# Código de solución estudiante 1\n",
    ".\n",
    ".\n",
    ".\n",
    ".\n"
   ]
  },
  {
   "cell_type": "markdown",
   "metadata": {},
   "source": [
    "Código de solución Ana Luisa"
   ]
  },
  {
   "cell_type": "code",
   "execution_count": 4,
   "metadata": {},
   "outputs": [],
   "source": [
    "import numpy as np\n",
    "import random"
   ]
  },
  {
   "cell_type": "code",
   "execution_count": 5,
   "metadata": {},
   "outputs": [],
   "source": [
    "################## Datos del problema\n",
    "d = 5 #dias de trabajo\n",
    "T =25200 #tiempo total simulación\n",
    "#tiempo de llegada \n",
    "T_at_min = 5; T_at_max = 30\n",
    "#tiempo en que son atendidos\n",
    "T_mujer_min =60; T_mujer_max = 300\n",
    "T_hombre_min = 40; T_hombre_max = 120\n",
    "C_mujer_min = 30; C_mujer_max = 100 #datos de consumo mujeres\n",
    "C_hombre_min = 20; C_hombre_max = 80 #datos de consumo hombres\n",
    "\n",
    "### Variables adicionales\n",
    "ct_m = np.array([])\n",
    "ct_h = np.array([])\n",
    "t_at = np.array([])\n",
    "cl_dia = [[] for _ in range(d)]\n",
    "g_dia = [[] for _ in range(d)]"
   ]
  },
  {
   "cell_type": "code",
   "execution_count": 6,
   "metadata": {},
   "outputs": [],
   "source": [
    "#### funciones para determinar tipo de cliente, su consumo y el tiempo de atención de cada uno\n",
    "\n",
    "# función que me da el tiempo total (atención + llegada) y consumo de un hombre y de una mujer y el tiempo de atención\n",
    "def hombre():\n",
    "    at = np.random.uniform(T_hombre_min, T_hombre_max)\n",
    "    tt = at + np.random.uniform(T_at_min, T_at_max)\n",
    "    c = np.random.uniform(C_hombre_min, C_hombre_max)\n",
    "\n",
    "    return [tt,c,at]\n",
    "\n",
    "def mujer():\n",
    "    at = np.random.uniform(T_mujer_min, T_mujer_max)\n",
    "    tt = at + np.random.uniform(T_at_min, T_at_max)\n",
    "    c = np.random.uniform(C_mujer_min, C_mujer_max)\n",
    "\n",
    "    return [tt,c,at]\n",
    "\n",
    "# función para determinar el tipo de cliente 1 si es mujer, 0 si es hombre\n",
    "def tipo():\n",
    "    j=np.random.uniform(0,1)\n",
    "    if j<0.5:\n",
    "        return 1\n",
    "    return 0"
   ]
  },
  {
   "cell_type": "code",
   "execution_count": 7,
   "metadata": {},
   "outputs": [],
   "source": [
    "for i in range(d):\n",
    "    c_dia = 0 #clientes del día\n",
    "    t_trans = 0 #tiempo transcurrido\n",
    "    g = 0 #ganancia por día\n",
    "    while t_trans<T:\n",
    "        cliente = tipo()\n",
    "        if cliente == 1:\n",
    "            tiempo,cons,a = mujer()\n",
    "            ct_m = np.append(ct_m,cons)\n",
    "        else:\n",
    "            tiempo,cons,a = hombre()\n",
    "            ct_h = np.append(ct_h,cons)\n",
    "        t_trans += tiempo\n",
    "        g += cons\n",
    "        t_at = np.append(t_at,a)\n",
    "        c_dia += 1\n",
    "    cl_dia[i]=c_dia\n",
    "    g_dia[i]=g\n",
    "\n",
    "# ganancias totales \n",
    "ganancia_t = np.array(g_dia).sum()"
   ]
  },
  {
   "cell_type": "code",
   "execution_count": 9,
   "metadata": {},
   "outputs": [
    {
     "name": "stdout",
     "output_type": "stream",
     "text": [
      "1. En 5 días, los gastos de hombres fueron por: $18900.14 y de mujeres por: $28955.8\n",
      "2. El consumo promedio de hombres fue de: $49.74 y de mujeres: $64.35\n",
      "3. El número de personas atendias por día es de [157, 171, 158, 167, 177], respectivamente\n",
      "4. El tiempo de atención promedio fue de  135.26 segundos\n",
      "5. La ganancia promedio en 5 días es de $9571.19 \n",
      " y la rentabilidad de: $5742.71\n"
     ]
    }
   ],
   "source": [
    "print(f\"1. En 5 días, los gastos de hombres fueron por: ${round(ct_h.sum(),2)} y de mujeres por: ${round(ct_m.sum(),2)}\")\n",
    "print(f\"2. El consumo promedio de hombres fue de: ${round(ct_h.mean(),2)} y de mujeres: ${round(ct_m.mean(),2)}\")\n",
    "print(f\"3. El número de personas atendias por día es de {cl_dia}, respectivamente\")\n",
    "print(f\"4. El tiempo de atención promedio fue de  {round(t_at.mean(),2)} segundos\")\n",
    "print(f\"5. La ganancia promedio en 5 días es de ${round(ganancia_t/d,2)} \\n y la rentabilidad de: ${round((ganancia_t*0.6)/d,2)}\")"
   ]
  },
  {
   "cell_type": "markdown",
   "metadata": {},
   "source": [
    "### Respuesta planteada en el ejercicio usando (markdown)\n",
    "1. ¿Cuáles fueron los gastos de los hombres y las mujeres en 5 días de trabajo?.\n",
    "    - gastos de hombres: 18,900.14\n",
    "    - gastos de mujeres: 28,955.8\n",
    "    \n",
    "    \n",
    "2. ¿Cuál fue el consumo promedio de los hombres y mujeres?\n",
    "    - gasto promedio de hombres: 49.74\n",
    "    - gasto promedio de mujeres: 64.35\n",
    "    \n",
    "    \n",
    "3. ¿Cuál fue el número de personas atendidas por día?\n",
    "    - 157, 171, 158, 167 y 177, respectivamente\n",
    "    \n",
    "    \n",
    "4. ¿Cuál fue el tiempo de atención promedio?\n",
    "    - El tiempo de atención promedio fue de 135.26 segundos por cliente\n",
    "    \n",
    "    \n",
    "5. ¿Cuánto fue la ganancia promedio de la cafetería en 5 días de trabajo y su respectiva rentabilidad?\n",
    "    - la ganancia promedio en 5 días fue de : 9,571.19\n",
    "    - la rentabilidad promedio de: 5,742.71 "
   ]
  },
  {
   "cell_type": "code",
   "execution_count": null,
   "metadata": {},
   "outputs": [],
   "source": []
  }
 ],
 "metadata": {
  "kernelspec": {
   "display_name": "Python 3",
   "language": "python",
   "name": "python3"
  },
  "language_info": {
   "codemirror_mode": {
    "name": "ipython",
    "version": 3
   },
   "file_extension": ".py",
   "mimetype": "text/x-python",
   "name": "python",
   "nbconvert_exporter": "python",
   "pygments_lexer": "ipython3",
   "version": "3.7.6"
  }
 },
 "nbformat": 4,
 "nbformat_minor": 2
}
